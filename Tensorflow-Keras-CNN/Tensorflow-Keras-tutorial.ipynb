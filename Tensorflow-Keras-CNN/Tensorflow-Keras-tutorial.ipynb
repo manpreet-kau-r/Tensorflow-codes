{
 "cells": [
  {
   "cell_type": "markdown",
   "metadata": {},
   "source": [
    "# Keras tutorial - Cats vs Dogs classification\n",
    "\n",
    "Welcome to Keras tutorial. In this tutorial we will:\n",
    "1. Learn to use Keras\n",
    "2. See how you can in a couple of hours build a classification algorithm.\n",
    "\n",
    "In this tutorial part, we'll work on the Cats vs Dogs classification problem. Let's load the required packages for our tutorial:"
   ]
  },
  {
   "cell_type": "code",
   "execution_count": 1,
   "metadata": {},
   "outputs": [
    {
     "name": "stderr",
     "output_type": "stream",
     "text": [
      "Using TensorFlow backend.\n"
     ]
    }
   ],
   "source": [
    "import os\n",
    "os.environ['CUDA_VISIBLE_DEVICES'] = '0'\n",
    "import cv2\n",
    "import numpy as np\n",
    "\n",
    "import tensorflow as tf\n",
    "\n",
    "from keras import layers\n",
    "from keras.layers import Input, Dense, Activation, ZeroPadding2D, BatchNormalization, Flatten, Conv2D\n",
    "from keras.layers import AveragePooling2D, MaxPooling2D, Dropout, GlobalMaxPooling2D, GlobalAveragePooling2D\n",
    "from keras.models import Model\n",
    "import keras.backend as K\n",
    "from keras.utils.vis_utils import model_to_dot\n",
    "from keras.utils import plot_model\n",
    "from IPython.display import SVG"
   ]
  },
  {
   "cell_type": "markdown",
   "metadata": {},
   "source": [
    "**Note**: As you can see, I imported a lot of functions from Keras. You can use them easily just by calling them directly in the notebook. Ex: `X = Input(...)` or `X = ZeroPadding2D(...)`.\n"
   ]
  },
  {
   "cell_type": "code",
   "execution_count": 2,
   "metadata": {},
   "outputs": [],
   "source": [
    "ROWS = 64\n",
    "COLS = 64\n",
    "CHANNELS = 3\n",
    "CLASSES = 2"
   ]
  },
  {
   "cell_type": "code",
   "execution_count": 3,
   "metadata": {},
   "outputs": [],
   "source": [
    "def read_image(file_path):\n",
    "    img = cv2.imread(file_path, cv2.IMREAD_COLOR)\n",
    "    return cv2.resize(img, (ROWS, COLS), interpolation=cv2.INTER_CUBIC)\n",
    "\n",
    "def prepare_data(images):\n",
    "    m = len(images)\n",
    "    X = np.zeros((m, ROWS, COLS, CHANNELS), dtype=np.uint8)\n",
    "    y = np.zeros((1, m), dtype=np.uint8)\n",
    "    for i, image_file in enumerate(images):\n",
    "        X[i,:] = read_image(image_file)\n",
    "        if 'dog' in image_file.lower():\n",
    "            y[0, i] = 1\n",
    "        elif 'cat' in image_file.lower():\n",
    "            y[0, i] = 0\n",
    "    return X, y"
   ]
  },
  {
   "cell_type": "markdown",
   "metadata": {},
   "source": [
    "Run the following code to normalize the dataset and learn about its shapes."
   ]
  },
  {
   "cell_type": "code",
   "execution_count": 4,
   "metadata": {},
   "outputs": [],
   "source": [
    "TRAIN_DIR = 'Train_data/'\n",
    "TEST_DIR = 'Test_data/'\n",
    "\n",
    "train_images = [TRAIN_DIR+i for i in os.listdir(TRAIN_DIR)]\n",
    "test_images =  [TEST_DIR+i for i in os.listdir(TEST_DIR)]\n",
    "\n",
    "train_set_x, train_set_y = prepare_data(train_images)\n",
    "test_set_x, test_set_y = prepare_data(test_images)\n",
    "\n",
    "X_train = train_set_x/255\n",
    "X_test = test_set_x/255\n",
    "\n",
    "Y_train = train_set_y.T\n",
    "Y_test = test_set_y.T"
   ]
  },
  {
   "cell_type": "code",
   "execution_count": 6,
   "metadata": {},
   "outputs": [
    {
     "name": "stdout",
     "output_type": "stream",
     "text": [
      "number of training examples = 6002\n",
      "number of test examples = 1000\n",
      "X_train shape: (6002, 64, 64, 3)\n",
      "Y_train shape: (6002, 1)\n",
      "X_test shape: (1000, 64, 64, 3)\n",
      "Y_test shape: (1000, 1)\n"
     ]
    }
   ],
   "source": [
    "print (\"number of training examples =\", X_train.shape[0])\n",
    "print (\"number of test examples =\", X_test.shape[0])\n",
    "print (\"X_train shape:\", X_train.shape)\n",
    "print (\"Y_train shape:\", Y_train.shape)\n",
    "print (\"X_test shape:\", X_test.shape)\n",
    "print (\"Y_test shape:\", Y_test.shape)"
   ]
  },
  {
   "cell_type": "markdown",
   "metadata": {},
   "source": [
    "## 2 - Building a model in Keras\n",
    "\n",
    "Keras is very good for rapid prototyping. In just a short time we will be able to build a model that achieves outstanding results.\n",
    "\n",
    "Here is an example of a model in Keras:\n",
    "\n",
    "```python\n",
    "def model(input_shape):\n",
    "    # Define the input placeholder as a tensor with shape input_shape. Think of this as your input image!\n",
    "    X_input = Input(input_shape)\n",
    "\n",
    "    # Zero-Padding: pads the border of X_input with zeroes\n",
    "    X = ZeroPadding2D((3, 3))(X_input)\n",
    "\n",
    "    # CONV -> BN -> RELU Block applied to X\n",
    "    X = Conv2D(32, (7, 7), strides = (1, 1), name = 'conv0')(X)\n",
    "    X = BatchNormalization(axis = 3, name = 'bn0')(X)\n",
    "    X = Activation('relu')(X)\n",
    "\n",
    "    # MAXPOOL\n",
    "    X = MaxPooling2D((2, 2), name='max_pool')(X)\n",
    "\n",
    "    # FLATTEN X (means convert it to a vector) + FULLYCONNECTED\n",
    "    X = Flatten()(X)\n",
    "    X = Dense(1, activation='sigmoid', name='fc')(X)\n",
    "\n",
    "    # Create model. This creates your Keras model instance, you'll use this instance to train/test the model.\n",
    "    model = Model(inputs = X_input, outputs = X, name='HappyModel')\n",
    "    \n",
    "    return model\n",
    "```\n",
    "\n",
    "**Note**: Be careful with your data-set shape. Use what you've learned in previous tutorials to make sure your convolutional, pooling and fully-connected layers are adapted to the volumes you're applying it to.\n",
    "\n",
    "**Arguments**:<br>\n",
    "    input_shape - shape of the images of the dataset<br>\n",
    "\n",
    "**Returns**:<br>\n",
    "    model - a Model() instance in Keras<br>"
   ]
  },
  {
   "cell_type": "code",
   "execution_count": 37,
   "metadata": {},
   "outputs": [],
   "source": [
    "def OurModel(input_shape):\n",
    "    \n",
    "    # Define the input placeholder as a tensor with shape input_shape. Think of this as your input image!\n",
    "    X_input = Input(input_shape)\n",
    "\n",
    "    # Zero-Padding: pads the border of X_input with zeroes\n",
    "    X = ZeroPadding2D((3, 3))(X_input)\n",
    "\n",
    "    # CONV -> BN -> RELU Block applied to X\n",
    "    X = Conv2D(32, (7, 7), strides = (1, 1), name = 'conv0')(X)\n",
    "    X = BatchNormalization(axis = 3, name = 'bn0')(X)\n",
    "    X = Activation('relu')(X)\n",
    "\n",
    "    # MAXPOOL\n",
    "    X = MaxPooling2D((2, 2), name='max_pool')(X)\n",
    "\n",
    "    # FLATTEN X (means convert it to a vector) + FULLYCONNECTED\n",
    "    X = Flatten()(X)\n",
    "    X = Dense(1, activation='sigmoid', name='fc')(X)\n",
    "\n",
    "    # Create model. This creates your Keras model instance, you'll use this instance to train/test the model.\n",
    "    model = Model(inputs = X_input, outputs = X, name='OurModel')    \n",
    "    \n",
    "    return model"
   ]
  },
  {
   "cell_type": "markdown",
   "metadata": {},
   "source": [
    "We have now built a function to describe your model. To train and test this model, there are four steps in Keras:\n",
    "First is to create the model by calling the function above.\n",
    "\n"
   ]
  },
  {
   "cell_type": "code",
   "execution_count": 38,
   "metadata": {},
   "outputs": [],
   "source": [
    "OurModel = OurModel(input_shape=(ROWS, COLS, CHANNELS))"
   ]
  },
  {
   "cell_type": "markdown",
   "metadata": {},
   "source": [
    "Now we will implement step 2, i.e. compile the model to configure the learning process. Choose the 3 arguments of `compile()` wisely:"
   ]
  },
  {
   "cell_type": "code",
   "execution_count": 39,
   "metadata": {},
   "outputs": [],
   "source": [
    "OurModel.compile(optimizer='Adam', loss='binary_crossentropy', metrics=['accuracy'])"
   ]
  },
  {
   "cell_type": "markdown",
   "metadata": {},
   "source": [
    "Now we will implement step 3, i.e. train the model. Choose the number of epochs and the batch size:"
   ]
  },
  {
   "cell_type": "code",
   "execution_count": 40,
   "metadata": {},
   "outputs": [
    {
     "name": "stdout",
     "output_type": "stream",
     "text": [
      "Epoch 1/20\n",
      "6002/6002 [==============================] - 3s 440us/step - loss: 1.7060 - acc: 0.5377\n",
      "Epoch 2/20\n",
      "6002/6002 [==============================] - 2s 250us/step - loss: 0.6642 - acc: 0.6566\n",
      "Epoch 3/20\n",
      "6002/6002 [==============================] - 2s 282us/step - loss: 0.6024 - acc: 0.6889\n",
      "Epoch 4/20\n",
      "6002/6002 [==============================] - 2s 265us/step - loss: 1.0007 - acc: 0.6021\n",
      "Epoch 5/20\n",
      "6002/6002 [==============================] - 2s 261us/step - loss: 0.9938 - acc: 0.6180\n",
      "Epoch 6/20\n",
      "6002/6002 [==============================] - 2s 259us/step - loss: 0.8620 - acc: 0.6438\n",
      "Epoch 7/20\n",
      "6002/6002 [==============================] - 2s 251us/step - loss: 0.6726 - acc: 0.6789\n",
      "Epoch 8/20\n",
      "6002/6002 [==============================] - 1s 249us/step - loss: 0.5702 - acc: 0.7144 0s - loss: 0.6011\n",
      "Epoch 9/20\n",
      "6002/6002 [==============================] - 2s 256us/step - loss: 0.6179 - acc: 0.7046\n",
      "Epoch 10/20\n",
      "6002/6002 [==============================] - 2s 273us/step - loss: 0.6312 - acc: 0.7049\n",
      "Epoch 11/20\n",
      "6002/6002 [==============================] - 2s 257us/step - loss: 0.4751 - acc: 0.7689\n",
      "Epoch 12/20\n",
      "6002/6002 [==============================] - 2s 282us/step - loss: 0.4400 - acc: 0.7922\n",
      "Epoch 13/20\n",
      "6002/6002 [==============================] - 2s 350us/step - loss: 0.7355 - acc: 0.6959 0s - loss: 0.8558\n",
      "Epoch 14/20\n",
      "6002/6002 [==============================] - 2s 316us/step - loss: 0.5591 - acc: 0.7369 1s - l\n",
      "Epoch 15/20\n",
      "6002/6002 [==============================] - 2s 285us/step - loss: 0.6246 - acc: 0.7148 1s - loss: 0\n",
      "Epoch 16/20\n",
      "6002/6002 [==============================] - 2s 255us/step - loss: 0.5698 - acc: 0.7369\n",
      "Epoch 17/20\n",
      "6002/6002 [==============================] - 1s 246us/step - loss: 0.5860 - acc: 0.7383\n",
      "Epoch 18/20\n",
      "6002/6002 [==============================] - 2s 263us/step - loss: 0.5133 - acc: 0.7579\n",
      "Epoch 19/20\n",
      "6002/6002 [==============================] - 2s 297us/step - loss: 0.7375 - acc: 0.7048\n",
      "Epoch 20/20\n",
      "6002/6002 [==============================] - 2s 288us/step - loss: 0.4656 - acc: 0.7879\n"
     ]
    },
    {
     "data": {
      "text/plain": [
       "<keras.callbacks.History at 0x1d06956e2e8>"
      ]
     },
     "execution_count": 40,
     "metadata": {},
     "output_type": "execute_result"
    }
   ],
   "source": [
    "OurModel.fit(x=X_train, y=Y_train, batch_size=200, epochs=20)"
   ]
  },
  {
   "cell_type": "markdown",
   "metadata": {},
   "source": [
    "Now we will implement step 4, i.e. test/evaluate the model."
   ]
  },
  {
   "cell_type": "code",
   "execution_count": 41,
   "metadata": {},
   "outputs": [
    {
     "name": "stdout",
     "output_type": "stream",
     "text": [
      "1000/1000 [==============================] - 0s 392us/step\n",
      "\n",
      "Loss =  1.484282861277461\n",
      "Test Accuracy =  0.5659999966621398\n"
     ]
    }
   ],
   "source": [
    "preds = OurModel.evaluate(x=X_test, y=Y_test, batch_size=150)\n",
    "\n",
    "print()\n",
    "print (\"Loss = \", preds[0])\n",
    "print (\"Test Accuracy = \", preds[1])"
   ]
  },
  {
   "cell_type": "markdown",
   "metadata": {},
   "source": [
    "## 3 - Test with your own image (Optional)\n",
    "\n",
    "You can now take a picture of your cat or dog and see what our model predicts House. To do that:"
   ]
  },
  {
   "cell_type": "code",
   "execution_count": 44,
   "metadata": {},
   "outputs": [],
   "source": [
    "#test_image = \"cat.jpg\"\n",
    "test_image = \"dog.jpg\"\n",
    "my_image = read_image(test_image).reshape(1, ROWS, COLS, CHANNELS)\n",
    "my_image = my_image / 255."
   ]
  },
  {
   "cell_type": "code",
   "execution_count": 45,
   "metadata": {},
   "outputs": [
    {
     "name": "stdout",
     "output_type": "stream",
     "text": [
      "[[0.99919766]]\n"
     ]
    }
   ],
   "source": [
    "print(OurModel.predict(my_image))"
   ]
  },
  {
   "cell_type": "markdown",
   "metadata": {},
   "source": [
    "## 4 - Other useful functions in Keras\n",
    "\n",
    "Two other basic features of Keras that you'll find useful are:\n",
    "- `model.summary()`: prints the details of your layers in a table with the sizes of its inputs/outputs\n",
    "- `plot_model()`: plots your graph in a nice layout. You can even save it as \".png\" using SVG() if you'd like to share it on social media ;).\n",
    "\n",
    "Run the following code:"
   ]
  },
  {
   "cell_type": "code",
   "execution_count": 46,
   "metadata": {},
   "outputs": [
    {
     "name": "stdout",
     "output_type": "stream",
     "text": [
      "_________________________________________________________________\n",
      "Layer (type)                 Output Shape              Param #   \n",
      "=================================================================\n",
      "input_6 (InputLayer)         (None, 64, 64, 3)         0         \n",
      "_________________________________________________________________\n",
      "zero_padding2d_6 (ZeroPaddin (None, 70, 70, 3)         0         \n",
      "_________________________________________________________________\n",
      "conv0 (Conv2D)               (None, 64, 64, 32)        4736      \n",
      "_________________________________________________________________\n",
      "bn0 (BatchNormalization)     (None, 64, 64, 32)        128       \n",
      "_________________________________________________________________\n",
      "activation_9 (Activation)    (None, 64, 64, 32)        0         \n",
      "_________________________________________________________________\n",
      "max_pool (MaxPooling2D)      (None, 32, 32, 32)        0         \n",
      "_________________________________________________________________\n",
      "flatten_6 (Flatten)          (None, 32768)             0         \n",
      "_________________________________________________________________\n",
      "fc (Dense)                   (None, 1)                 32769     \n",
      "=================================================================\n",
      "Total params: 37,633\n",
      "Trainable params: 37,569\n",
      "Non-trainable params: 64\n",
      "_________________________________________________________________\n"
     ]
    }
   ],
   "source": [
    "OurModel.summary()"
   ]
  },
  {
   "cell_type": "code",
   "execution_count": 47,
   "metadata": {},
   "outputs": [
    {
     "data": {
      "image/svg+xml": [
       "<svg height=\"556pt\" viewBox=\"0.00 0.00 225.00 556.00\" width=\"225pt\" xmlns=\"http://www.w3.org/2000/svg\" xmlns:xlink=\"http://www.w3.org/1999/xlink\">\n",
       "<g class=\"graph\" id=\"graph0\" transform=\"scale(1 1) rotate(0) translate(4 552)\">\n",
       "<title>G</title>\n",
       "<polygon fill=\"white\" points=\"-4,4 -4,-552 221,-552 221,4 -4,4\" stroke=\"none\"/>\n",
       "<!-- 1994630619936 -->\n",
       "<g class=\"node\" id=\"node1\"><title>1994630619936</title>\n",
       "<polygon fill=\"none\" points=\"45.5,-511.5 45.5,-547.5 171.5,-547.5 171.5,-511.5 45.5,-511.5\" stroke=\"black\"/>\n",
       "<text font-family=\"Times New Roman,serif\" font-size=\"14.00\" text-anchor=\"middle\" x=\"108.5\" y=\"-525.8\">input_6: InputLayer</text>\n",
       "</g>\n",
       "<!-- 1994630623016 -->\n",
       "<g class=\"node\" id=\"node2\"><title>1994630623016</title>\n",
       "<polygon fill=\"none\" points=\"0,-438.5 0,-474.5 217,-474.5 217,-438.5 0,-438.5\" stroke=\"black\"/>\n",
       "<text font-family=\"Times New Roman,serif\" font-size=\"14.00\" text-anchor=\"middle\" x=\"108.5\" y=\"-452.8\">zero_padding2d_6: ZeroPadding2D</text>\n",
       "</g>\n",
       "<!-- 1994630619936&#45;&gt;1994630623016 -->\n",
       "<g class=\"edge\" id=\"edge1\"><title>1994630619936-&gt;1994630623016</title>\n",
       "<path d=\"M108.5,-511.313C108.5,-503.289 108.5,-493.547 108.5,-484.569\" fill=\"none\" stroke=\"black\"/>\n",
       "<polygon fill=\"black\" points=\"112,-484.529 108.5,-474.529 105,-484.529 112,-484.529\" stroke=\"black\"/>\n",
       "</g>\n",
       "<!-- 1994630621448 -->\n",
       "<g class=\"node\" id=\"node3\"><title>1994630621448</title>\n",
       "<polygon fill=\"none\" points=\"56,-365.5 56,-401.5 161,-401.5 161,-365.5 56,-365.5\" stroke=\"black\"/>\n",
       "<text font-family=\"Times New Roman,serif\" font-size=\"14.00\" text-anchor=\"middle\" x=\"108.5\" y=\"-379.8\">conv0: Conv2D</text>\n",
       "</g>\n",
       "<!-- 1994630623016&#45;&gt;1994630621448 -->\n",
       "<g class=\"edge\" id=\"edge2\"><title>1994630623016-&gt;1994630621448</title>\n",
       "<path d=\"M108.5,-438.313C108.5,-430.289 108.5,-420.547 108.5,-411.569\" fill=\"none\" stroke=\"black\"/>\n",
       "<polygon fill=\"black\" points=\"112,-411.529 108.5,-401.529 105,-411.529 112,-411.529\" stroke=\"black\"/>\n",
       "</g>\n",
       "<!-- 1994630365704 -->\n",
       "<g class=\"node\" id=\"node4\"><title>1994630365704</title>\n",
       "<polygon fill=\"none\" points=\"31.5,-292.5 31.5,-328.5 185.5,-328.5 185.5,-292.5 31.5,-292.5\" stroke=\"black\"/>\n",
       "<text font-family=\"Times New Roman,serif\" font-size=\"14.00\" text-anchor=\"middle\" x=\"108.5\" y=\"-306.8\">bn0: BatchNormalization</text>\n",
       "</g>\n",
       "<!-- 1994630621448&#45;&gt;1994630365704 -->\n",
       "<g class=\"edge\" id=\"edge3\"><title>1994630621448-&gt;1994630365704</title>\n",
       "<path d=\"M108.5,-365.313C108.5,-357.289 108.5,-347.547 108.5,-338.569\" fill=\"none\" stroke=\"black\"/>\n",
       "<polygon fill=\"black\" points=\"112,-338.529 108.5,-328.529 105,-338.529 112,-338.529\" stroke=\"black\"/>\n",
       "</g>\n",
       "<!-- 1994625210240 -->\n",
       "<g class=\"node\" id=\"node5\"><title>1994625210240</title>\n",
       "<polygon fill=\"none\" points=\"34.5,-219.5 34.5,-255.5 182.5,-255.5 182.5,-219.5 34.5,-219.5\" stroke=\"black\"/>\n",
       "<text font-family=\"Times New Roman,serif\" font-size=\"14.00\" text-anchor=\"middle\" x=\"108.5\" y=\"-233.8\">activation_9: Activation</text>\n",
       "</g>\n",
       "<!-- 1994630365704&#45;&gt;1994625210240 -->\n",
       "<g class=\"edge\" id=\"edge4\"><title>1994630365704-&gt;1994625210240</title>\n",
       "<path d=\"M108.5,-292.313C108.5,-284.289 108.5,-274.547 108.5,-265.569\" fill=\"none\" stroke=\"black\"/>\n",
       "<polygon fill=\"black\" points=\"112,-265.529 108.5,-255.529 105,-265.529 112,-265.529\" stroke=\"black\"/>\n",
       "</g>\n",
       "<!-- 1994630776816 -->\n",
       "<g class=\"node\" id=\"node6\"><title>1994630776816</title>\n",
       "<polygon fill=\"none\" points=\"26.5,-146.5 26.5,-182.5 190.5,-182.5 190.5,-146.5 26.5,-146.5\" stroke=\"black\"/>\n",
       "<text font-family=\"Times New Roman,serif\" font-size=\"14.00\" text-anchor=\"middle\" x=\"108.5\" y=\"-160.8\">max_pool: MaxPooling2D</text>\n",
       "</g>\n",
       "<!-- 1994625210240&#45;&gt;1994630776816 -->\n",
       "<g class=\"edge\" id=\"edge5\"><title>1994625210240-&gt;1994630776816</title>\n",
       "<path d=\"M108.5,-219.313C108.5,-211.289 108.5,-201.547 108.5,-192.569\" fill=\"none\" stroke=\"black\"/>\n",
       "<polygon fill=\"black\" points=\"112,-192.529 108.5,-182.529 105,-192.529 112,-192.529\" stroke=\"black\"/>\n",
       "</g>\n",
       "<!-- 1994630778552 -->\n",
       "<g class=\"node\" id=\"node7\"><title>1994630778552</title>\n",
       "<polygon fill=\"none\" points=\"54,-73.5 54,-109.5 163,-109.5 163,-73.5 54,-73.5\" stroke=\"black\"/>\n",
       "<text font-family=\"Times New Roman,serif\" font-size=\"14.00\" text-anchor=\"middle\" x=\"108.5\" y=\"-87.8\">flatten_6: Flatten</text>\n",
       "</g>\n",
       "<!-- 1994630776816&#45;&gt;1994630778552 -->\n",
       "<g class=\"edge\" id=\"edge6\"><title>1994630776816-&gt;1994630778552</title>\n",
       "<path d=\"M108.5,-146.313C108.5,-138.289 108.5,-128.547 108.5,-119.569\" fill=\"none\" stroke=\"black\"/>\n",
       "<polygon fill=\"black\" points=\"112,-119.529 108.5,-109.529 105,-119.529 112,-119.529\" stroke=\"black\"/>\n",
       "</g>\n",
       "<!-- 1994631238992 -->\n",
       "<g class=\"node\" id=\"node8\"><title>1994631238992</title>\n",
       "<polygon fill=\"none\" points=\"74,-0.5 74,-36.5 143,-36.5 143,-0.5 74,-0.5\" stroke=\"black\"/>\n",
       "<text font-family=\"Times New Roman,serif\" font-size=\"14.00\" text-anchor=\"middle\" x=\"108.5\" y=\"-14.8\">fc: Dense</text>\n",
       "</g>\n",
       "<!-- 1994630778552&#45;&gt;1994631238992 -->\n",
       "<g class=\"edge\" id=\"edge7\"><title>1994630778552-&gt;1994631238992</title>\n",
       "<path d=\"M108.5,-73.3129C108.5,-65.2895 108.5,-55.5475 108.5,-46.5691\" fill=\"none\" stroke=\"black\"/>\n",
       "<polygon fill=\"black\" points=\"112,-46.5288 108.5,-36.5288 105,-46.5289 112,-46.5288\" stroke=\"black\"/>\n",
       "</g>\n",
       "</g>\n",
       "</svg>"
      ],
      "text/plain": [
       "<IPython.core.display.SVG object>"
      ]
     },
     "execution_count": 47,
     "metadata": {},
     "output_type": "execute_result"
    }
   ],
   "source": [
    "plot_model(OurModel, to_file='OurModel.png')\n",
    "SVG(model_to_dot(OurModel).create(prog='dot', format='svg'))"
   ]
  },
  {
   "cell_type": "markdown",
   "metadata": {},
   "source": [
    "## 5 - Conclusion\n",
    "\n",
    "Congratulations, you have solved the Cats vs Dogs classification challenge! "
   ]
  },
  {
   "cell_type": "code",
   "execution_count": null,
   "metadata": {},
   "outputs": [],
   "source": []
  }
 ],
 "metadata": {
  "kernelspec": {
   "display_name": "Python 3",
   "language": "python",
   "name": "python3"
  },
  "language_info": {
   "codemirror_mode": {
    "name": "ipython",
    "version": 3
   },
   "file_extension": ".py",
   "mimetype": "text/x-python",
   "name": "python",
   "nbconvert_exporter": "python",
   "pygments_lexer": "ipython3",
   "version": "3.7.2"
  }
 },
 "nbformat": 4,
 "nbformat_minor": 2
}
